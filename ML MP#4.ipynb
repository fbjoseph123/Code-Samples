{
 "cells": [
  {
   "cell_type": "code",
   "execution_count": 250,
   "id": "0b41064f",
   "metadata": {},
   "outputs": [],
   "source": [
    "from sklearn.svm import SVC\n",
    "from sklearn.model_selection import train_test_split, KFold\n",
    "from sklearn.preprocessing import StandardScaler\n",
    "from sklearn import metrics\n",
    "import os\n",
    "import numpy as np\n",
    "import pandas as pd\n",
    "import matplotlib.pyplot as plt\n",
    "from sklearn import datasets"
   ]
  },
  {
   "cell_type": "code",
   "execution_count": 251,
   "id": "50fc06d9",
   "metadata": {},
   "outputs": [],
   "source": [
    "base_path = r'C:\\Users\\frank\\OneDrive\\Desktop\\Machine Learning\\MP#4'\n",
    "path = os.path.join(base_path,'vote.csv')\n",
    "vote_data = pd.read_csv(path)\n",
    "path2 = os.path.join(base_path,'work.csv')\n",
    "work_data = pd.read_csv(path2)"
   ]
  },
  {
   "cell_type": "markdown",
   "id": "98330d16",
   "metadata": {},
   "source": [
    "# Question 1"
   ]
  },
  {
   "cell_type": "code",
   "execution_count": 252,
   "id": "532c200d",
   "metadata": {},
   "outputs": [
    {
     "name": "stdout",
     "output_type": "stream",
     "text": [
      "<class 'pandas.core.frame.DataFrame'>\n",
      "RangeIndex: 5000 entries, 0 to 4999\n",
      "Data columns (total 7 columns):\n",
      " #   Column    Non-Null Count  Dtype \n",
      "---  ------    --------------  ----- \n",
      " 0   prtage    5000 non-null   int64 \n",
      " 1   pesex     5000 non-null   object\n",
      " 2   ptdtrace  5000 non-null   object\n",
      " 3   pehspnon  5000 non-null   object\n",
      " 4   prcitshp  5000 non-null   object\n",
      " 5   peeduca   5000 non-null   object\n",
      " 6   vote      5000 non-null   object\n",
      "dtypes: int64(1), object(6)\n",
      "memory usage: 273.6+ KB\n"
     ]
    }
   ],
   "source": [
    "vote_data.info()"
   ]
  },
  {
   "cell_type": "code",
   "execution_count": 253,
   "id": "9c397eb5",
   "metadata": {},
   "outputs": [
    {
     "name": "stdout",
     "output_type": "stream",
     "text": [
      "<class 'pandas.core.frame.DataFrame'>\n",
      "RangeIndex: 5000 entries, 0 to 4999\n",
      "Data columns (total 7 columns):\n",
      " #   Column    Non-Null Count  Dtype \n",
      "---  ------    --------------  ----- \n",
      " 0   prtage    5000 non-null   int64 \n",
      " 1   pesex     5000 non-null   object\n",
      " 2   ptdtrace  5000 non-null   object\n",
      " 3   pehspnon  5000 non-null   object\n",
      " 4   prcitshp  5000 non-null   object\n",
      " 5   peeduca   5000 non-null   object\n",
      " 6   work      5000 non-null   object\n",
      "dtypes: int64(1), object(6)\n",
      "memory usage: 273.6+ KB\n"
     ]
    }
   ],
   "source": [
    "work_data.info()"
   ]
  },
  {
   "cell_type": "markdown",
   "id": "8c1a0b88",
   "metadata": {},
   "source": [
    "# Question 2(a)"
   ]
  },
  {
   "cell_type": "code",
   "execution_count": 254,
   "id": "1c276147",
   "metadata": {},
   "outputs": [
    {
     "data": {
      "text/plain": [
       "array(['vote', 'did not vote'], dtype=object)"
      ]
     },
     "execution_count": 254,
     "metadata": {},
     "output_type": "execute_result"
    }
   ],
   "source": [
    "vote_data['vote'].unique()"
   ]
  },
  {
   "cell_type": "code",
   "execution_count": 255,
   "id": "bb78c717",
   "metadata": {},
   "outputs": [
    {
     "data": {
      "text/plain": [
       "array(['flexible', 'not flexible'], dtype=object)"
      ]
     },
     "execution_count": 255,
     "metadata": {},
     "output_type": "execute_result"
    }
   ],
   "source": [
    "work_data['work'].unique()"
   ]
  },
  {
   "cell_type": "code",
   "execution_count": 256,
   "id": "6192206a",
   "metadata": {},
   "outputs": [
    {
     "data": {
      "text/plain": [
       "array([1, 0], dtype=int64)"
      ]
     },
     "execution_count": 256,
     "metadata": {},
     "output_type": "execute_result"
    }
   ],
   "source": [
    "vote_dict = {'vote':1, 'did not vote':0}\n",
    "vote_data.replace({'vote':vote_dict}, inplace=True)\n",
    "vote_data['vote'].unique()"
   ]
  },
  {
   "cell_type": "code",
   "execution_count": 257,
   "id": "066f35d8",
   "metadata": {},
   "outputs": [
    {
     "data": {
      "text/plain": [
       "array([1, 0], dtype=int64)"
      ]
     },
     "execution_count": 257,
     "metadata": {},
     "output_type": "execute_result"
    }
   ],
   "source": [
    "work_dict = {'flexible':1, 'not flexible':0}\n",
    "work_data.replace({'work':work_dict}, inplace=True)\n",
    "work_data['work'].unique()"
   ]
  },
  {
   "cell_type": "markdown",
   "id": "79d85638",
   "metadata": {},
   "source": [
    "# Question 2(b)"
   ]
  },
  {
   "cell_type": "code",
   "execution_count": 258,
   "id": "8863feeb",
   "metadata": {},
   "outputs": [
    {
     "name": "stdout",
     "output_type": "stream",
     "text": [
      "<class 'pandas.core.frame.DataFrame'>\n",
      "RangeIndex: 5000 entries, 0 to 4999\n",
      "Data columns (total 7 columns):\n",
      " #   Column    Non-Null Count  Dtype \n",
      "---  ------    --------------  ----- \n",
      " 0   prtage    5000 non-null   int64 \n",
      " 1   pesex     5000 non-null   object\n",
      " 2   ptdtrace  5000 non-null   object\n",
      " 3   pehspnon  5000 non-null   object\n",
      " 4   prcitshp  5000 non-null   object\n",
      " 5   peeduca   5000 non-null   object\n",
      " 6   vote      5000 non-null   int64 \n",
      "dtypes: int64(2), object(5)\n",
      "memory usage: 273.6+ KB\n"
     ]
    }
   ],
   "source": [
    "vote_data.info()"
   ]
  },
  {
   "cell_type": "code",
   "execution_count": 259,
   "id": "00e3e3b3",
   "metadata": {},
   "outputs": [
    {
     "name": "stdout",
     "output_type": "stream",
     "text": [
      "<class 'pandas.core.frame.DataFrame'>\n",
      "RangeIndex: 5000 entries, 0 to 4999\n",
      "Data columns (total 7 columns):\n",
      " #   Column    Non-Null Count  Dtype \n",
      "---  ------    --------------  ----- \n",
      " 0   prtage    5000 non-null   int64 \n",
      " 1   pesex     5000 non-null   object\n",
      " 2   ptdtrace  5000 non-null   object\n",
      " 3   pehspnon  5000 non-null   object\n",
      " 4   prcitshp  5000 non-null   object\n",
      " 5   peeduca   5000 non-null   object\n",
      " 6   work      5000 non-null   int64 \n",
      "dtypes: int64(2), object(5)\n",
      "memory usage: 273.6+ KB\n"
     ]
    }
   ],
   "source": [
    "work_data.info()"
   ]
  },
  {
   "cell_type": "markdown",
   "id": "fadbd921",
   "metadata": {},
   "source": [
    "There are no more discrepancies between these two data sets. "
   ]
  },
  {
   "cell_type": "markdown",
   "id": "05e485f5",
   "metadata": {},
   "source": [
    "# Question 2(c)"
   ]
  },
  {
   "cell_type": "code",
   "execution_count": 260,
   "id": "6fe0d031",
   "metadata": {},
   "outputs": [],
   "source": [
    "vote_data = pd.get_dummies(vote_data, columns=['pesex','ptdtrace','pehspnon','prcitshp','peeduca'])\n",
    "work_data = pd.get_dummies(work_data, columns=['pesex','ptdtrace','pehspnon','prcitshp','peeduca'])"
   ]
  },
  {
   "cell_type": "code",
   "execution_count": 261,
   "id": "08b5a16e",
   "metadata": {},
   "outputs": [
    {
     "data": {
      "text/html": [
       "<div>\n",
       "<style scoped>\n",
       "    .dataframe tbody tr th:only-of-type {\n",
       "        vertical-align: middle;\n",
       "    }\n",
       "\n",
       "    .dataframe tbody tr th {\n",
       "        vertical-align: top;\n",
       "    }\n",
       "\n",
       "    .dataframe thead th {\n",
       "        text-align: right;\n",
       "    }\n",
       "</style>\n",
       "<table border=\"1\" class=\"dataframe\">\n",
       "  <thead>\n",
       "    <tr style=\"text-align: right;\">\n",
       "      <th></th>\n",
       "      <th>prtage</th>\n",
       "      <th>vote</th>\n",
       "      <th>pesex_FEMALE</th>\n",
       "      <th>pesex_MALE</th>\n",
       "      <th>ptdtrace_2 or 3 Races</th>\n",
       "      <th>ptdtrace_American Indian, Alaskan</th>\n",
       "      <th>ptdtrace_Asian Only</th>\n",
       "      <th>ptdtrace_Asian-HP</th>\n",
       "      <th>ptdtrace_Black Only</th>\n",
       "      <th>ptdtrace_Black-AI</th>\n",
       "      <th>...</th>\n",
       "      <th>peeduca_9TH GRADE</th>\n",
       "      <th>peeduca_ASSOCIATE DEGREE-ACADEMIC</th>\n",
       "      <th>peeduca_ASSOCIATE DEGREE-OCCUPATIONAL/</th>\n",
       "      <th>peeduca_BACHELOR'S DEGREE</th>\n",
       "      <th>peeduca_DOCTORATE DEGREE</th>\n",
       "      <th>peeduca_HIGH SCHOOL GRAD-DIPLOMA OR</th>\n",
       "      <th>peeduca_LESS THAN 1ST GRADE</th>\n",
       "      <th>peeduca_MASTER'S DEGREE (EX: MA, MS,</th>\n",
       "      <th>peeduca_PROFESSIONAL SCHOOL DEG</th>\n",
       "      <th>peeduca_SOME COLLEGE BUT NO DEGREE</th>\n",
       "    </tr>\n",
       "  </thead>\n",
       "  <tbody>\n",
       "    <tr>\n",
       "      <th>0</th>\n",
       "      <td>19</td>\n",
       "      <td>1</td>\n",
       "      <td>1</td>\n",
       "      <td>0</td>\n",
       "      <td>0</td>\n",
       "      <td>0</td>\n",
       "      <td>0</td>\n",
       "      <td>0</td>\n",
       "      <td>0</td>\n",
       "      <td>0</td>\n",
       "      <td>...</td>\n",
       "      <td>0</td>\n",
       "      <td>0</td>\n",
       "      <td>0</td>\n",
       "      <td>0</td>\n",
       "      <td>0</td>\n",
       "      <td>0</td>\n",
       "      <td>0</td>\n",
       "      <td>0</td>\n",
       "      <td>0</td>\n",
       "      <td>1</td>\n",
       "    </tr>\n",
       "    <tr>\n",
       "      <th>1</th>\n",
       "      <td>35</td>\n",
       "      <td>1</td>\n",
       "      <td>0</td>\n",
       "      <td>1</td>\n",
       "      <td>0</td>\n",
       "      <td>0</td>\n",
       "      <td>0</td>\n",
       "      <td>0</td>\n",
       "      <td>0</td>\n",
       "      <td>0</td>\n",
       "      <td>...</td>\n",
       "      <td>0</td>\n",
       "      <td>0</td>\n",
       "      <td>0</td>\n",
       "      <td>0</td>\n",
       "      <td>0</td>\n",
       "      <td>0</td>\n",
       "      <td>0</td>\n",
       "      <td>1</td>\n",
       "      <td>0</td>\n",
       "      <td>0</td>\n",
       "    </tr>\n",
       "    <tr>\n",
       "      <th>2</th>\n",
       "      <td>48</td>\n",
       "      <td>1</td>\n",
       "      <td>0</td>\n",
       "      <td>1</td>\n",
       "      <td>0</td>\n",
       "      <td>0</td>\n",
       "      <td>0</td>\n",
       "      <td>0</td>\n",
       "      <td>0</td>\n",
       "      <td>0</td>\n",
       "      <td>...</td>\n",
       "      <td>0</td>\n",
       "      <td>0</td>\n",
       "      <td>0</td>\n",
       "      <td>0</td>\n",
       "      <td>0</td>\n",
       "      <td>0</td>\n",
       "      <td>0</td>\n",
       "      <td>0</td>\n",
       "      <td>0</td>\n",
       "      <td>0</td>\n",
       "    </tr>\n",
       "    <tr>\n",
       "      <th>3</th>\n",
       "      <td>55</td>\n",
       "      <td>0</td>\n",
       "      <td>0</td>\n",
       "      <td>1</td>\n",
       "      <td>0</td>\n",
       "      <td>0</td>\n",
       "      <td>0</td>\n",
       "      <td>0</td>\n",
       "      <td>0</td>\n",
       "      <td>0</td>\n",
       "      <td>...</td>\n",
       "      <td>0</td>\n",
       "      <td>0</td>\n",
       "      <td>0</td>\n",
       "      <td>1</td>\n",
       "      <td>0</td>\n",
       "      <td>0</td>\n",
       "      <td>0</td>\n",
       "      <td>0</td>\n",
       "      <td>0</td>\n",
       "      <td>0</td>\n",
       "    </tr>\n",
       "    <tr>\n",
       "      <th>4</th>\n",
       "      <td>25</td>\n",
       "      <td>1</td>\n",
       "      <td>1</td>\n",
       "      <td>0</td>\n",
       "      <td>0</td>\n",
       "      <td>0</td>\n",
       "      <td>0</td>\n",
       "      <td>0</td>\n",
       "      <td>0</td>\n",
       "      <td>0</td>\n",
       "      <td>...</td>\n",
       "      <td>0</td>\n",
       "      <td>0</td>\n",
       "      <td>0</td>\n",
       "      <td>0</td>\n",
       "      <td>0</td>\n",
       "      <td>0</td>\n",
       "      <td>0</td>\n",
       "      <td>0</td>\n",
       "      <td>0</td>\n",
       "      <td>1</td>\n",
       "    </tr>\n",
       "  </tbody>\n",
       "</table>\n",
       "<p>5 rows × 41 columns</p>\n",
       "</div>"
      ],
      "text/plain": [
       "   prtage  vote  pesex_FEMALE  pesex_MALE  ptdtrace_2 or 3 Races  \\\n",
       "0      19     1             1           0                      0   \n",
       "1      35     1             0           1                      0   \n",
       "2      48     1             0           1                      0   \n",
       "3      55     0             0           1                      0   \n",
       "4      25     1             1           0                      0   \n",
       "\n",
       "   ptdtrace_American Indian, Alaskan  ptdtrace_Asian Only  ptdtrace_Asian-HP  \\\n",
       "0                                  0                    0                  0   \n",
       "1                                  0                    0                  0   \n",
       "2                                  0                    0                  0   \n",
       "3                                  0                    0                  0   \n",
       "4                                  0                    0                  0   \n",
       "\n",
       "   ptdtrace_Black Only  ptdtrace_Black-AI  ...  peeduca_9TH GRADE  \\\n",
       "0                    0                  0  ...                  0   \n",
       "1                    0                  0  ...                  0   \n",
       "2                    0                  0  ...                  0   \n",
       "3                    0                  0  ...                  0   \n",
       "4                    0                  0  ...                  0   \n",
       "\n",
       "   peeduca_ASSOCIATE DEGREE-ACADEMIC  peeduca_ASSOCIATE DEGREE-OCCUPATIONAL/  \\\n",
       "0                                  0                                       0   \n",
       "1                                  0                                       0   \n",
       "2                                  0                                       0   \n",
       "3                                  0                                       0   \n",
       "4                                  0                                       0   \n",
       "\n",
       "   peeduca_BACHELOR'S DEGREE  peeduca_DOCTORATE DEGREE  \\\n",
       "0                          0                         0   \n",
       "1                          0                         0   \n",
       "2                          0                         0   \n",
       "3                          1                         0   \n",
       "4                          0                         0   \n",
       "\n",
       "   peeduca_HIGH SCHOOL GRAD-DIPLOMA OR  peeduca_LESS THAN 1ST GRADE  \\\n",
       "0                                    0                            0   \n",
       "1                                    0                            0   \n",
       "2                                    0                            0   \n",
       "3                                    0                            0   \n",
       "4                                    0                            0   \n",
       "\n",
       "   peeduca_MASTER'S DEGREE (EX: MA, MS,  peeduca_PROFESSIONAL SCHOOL DEG  \\\n",
       "0                                     0                                0   \n",
       "1                                     1                                0   \n",
       "2                                     0                                0   \n",
       "3                                     0                                0   \n",
       "4                                     0                                0   \n",
       "\n",
       "   peeduca_SOME COLLEGE BUT NO DEGREE  \n",
       "0                                   1  \n",
       "1                                   0  \n",
       "2                                   0  \n",
       "3                                   0  \n",
       "4                                   1  \n",
       "\n",
       "[5 rows x 41 columns]"
      ]
     },
     "execution_count": 261,
     "metadata": {},
     "output_type": "execute_result"
    }
   ],
   "source": [
    "vote_data.head()"
   ]
  },
  {
   "cell_type": "code",
   "execution_count": 262,
   "id": "b8453c76",
   "metadata": {},
   "outputs": [
    {
     "data": {
      "text/html": [
       "<div>\n",
       "<style scoped>\n",
       "    .dataframe tbody tr th:only-of-type {\n",
       "        vertical-align: middle;\n",
       "    }\n",
       "\n",
       "    .dataframe tbody tr th {\n",
       "        vertical-align: top;\n",
       "    }\n",
       "\n",
       "    .dataframe thead th {\n",
       "        text-align: right;\n",
       "    }\n",
       "</style>\n",
       "<table border=\"1\" class=\"dataframe\">\n",
       "  <thead>\n",
       "    <tr style=\"text-align: right;\">\n",
       "      <th></th>\n",
       "      <th>prtage</th>\n",
       "      <th>work</th>\n",
       "      <th>pesex_FEMALE</th>\n",
       "      <th>pesex_MALE</th>\n",
       "      <th>ptdtrace_2 or 3 Races</th>\n",
       "      <th>ptdtrace_4 or 5 Races</th>\n",
       "      <th>ptdtrace_American Indian, Alaskan</th>\n",
       "      <th>ptdtrace_Asian Only</th>\n",
       "      <th>ptdtrace_Asian-HP</th>\n",
       "      <th>ptdtrace_Black Only</th>\n",
       "      <th>...</th>\n",
       "      <th>peeduca_9TH GRADE</th>\n",
       "      <th>peeduca_ASSOCIATE DEGREE-ACADEMIC</th>\n",
       "      <th>peeduca_ASSOCIATE DEGREE-OCCUPATIONAL/</th>\n",
       "      <th>peeduca_BACHELOR'S DEGREE</th>\n",
       "      <th>peeduca_DOCTORATE DEGREE</th>\n",
       "      <th>peeduca_HIGH SCHOOL GRAD-DIPLOMA OR</th>\n",
       "      <th>peeduca_LESS THAN 1ST GRADE</th>\n",
       "      <th>peeduca_MASTER'S DEGREE (EX: MA, MS,</th>\n",
       "      <th>peeduca_PROFESSIONAL SCHOOL DEG</th>\n",
       "      <th>peeduca_SOME COLLEGE BUT NO DEGREE</th>\n",
       "    </tr>\n",
       "  </thead>\n",
       "  <tbody>\n",
       "    <tr>\n",
       "      <th>0</th>\n",
       "      <td>35</td>\n",
       "      <td>1</td>\n",
       "      <td>0</td>\n",
       "      <td>1</td>\n",
       "      <td>0</td>\n",
       "      <td>0</td>\n",
       "      <td>0</td>\n",
       "      <td>0</td>\n",
       "      <td>0</td>\n",
       "      <td>0</td>\n",
       "      <td>...</td>\n",
       "      <td>0</td>\n",
       "      <td>0</td>\n",
       "      <td>0</td>\n",
       "      <td>0</td>\n",
       "      <td>0</td>\n",
       "      <td>1</td>\n",
       "      <td>0</td>\n",
       "      <td>0</td>\n",
       "      <td>0</td>\n",
       "      <td>0</td>\n",
       "    </tr>\n",
       "    <tr>\n",
       "      <th>1</th>\n",
       "      <td>41</td>\n",
       "      <td>1</td>\n",
       "      <td>0</td>\n",
       "      <td>1</td>\n",
       "      <td>0</td>\n",
       "      <td>0</td>\n",
       "      <td>0</td>\n",
       "      <td>0</td>\n",
       "      <td>0</td>\n",
       "      <td>0</td>\n",
       "      <td>...</td>\n",
       "      <td>0</td>\n",
       "      <td>0</td>\n",
       "      <td>0</td>\n",
       "      <td>0</td>\n",
       "      <td>0</td>\n",
       "      <td>1</td>\n",
       "      <td>0</td>\n",
       "      <td>0</td>\n",
       "      <td>0</td>\n",
       "      <td>0</td>\n",
       "    </tr>\n",
       "    <tr>\n",
       "      <th>2</th>\n",
       "      <td>53</td>\n",
       "      <td>0</td>\n",
       "      <td>0</td>\n",
       "      <td>1</td>\n",
       "      <td>0</td>\n",
       "      <td>0</td>\n",
       "      <td>0</td>\n",
       "      <td>0</td>\n",
       "      <td>0</td>\n",
       "      <td>0</td>\n",
       "      <td>...</td>\n",
       "      <td>0</td>\n",
       "      <td>0</td>\n",
       "      <td>0</td>\n",
       "      <td>1</td>\n",
       "      <td>0</td>\n",
       "      <td>0</td>\n",
       "      <td>0</td>\n",
       "      <td>0</td>\n",
       "      <td>0</td>\n",
       "      <td>0</td>\n",
       "    </tr>\n",
       "    <tr>\n",
       "      <th>3</th>\n",
       "      <td>21</td>\n",
       "      <td>1</td>\n",
       "      <td>1</td>\n",
       "      <td>0</td>\n",
       "      <td>0</td>\n",
       "      <td>0</td>\n",
       "      <td>0</td>\n",
       "      <td>0</td>\n",
       "      <td>0</td>\n",
       "      <td>0</td>\n",
       "      <td>...</td>\n",
       "      <td>0</td>\n",
       "      <td>0</td>\n",
       "      <td>0</td>\n",
       "      <td>0</td>\n",
       "      <td>0</td>\n",
       "      <td>0</td>\n",
       "      <td>0</td>\n",
       "      <td>0</td>\n",
       "      <td>0</td>\n",
       "      <td>1</td>\n",
       "    </tr>\n",
       "    <tr>\n",
       "      <th>4</th>\n",
       "      <td>45</td>\n",
       "      <td>1</td>\n",
       "      <td>1</td>\n",
       "      <td>0</td>\n",
       "      <td>0</td>\n",
       "      <td>0</td>\n",
       "      <td>0</td>\n",
       "      <td>0</td>\n",
       "      <td>0</td>\n",
       "      <td>1</td>\n",
       "      <td>...</td>\n",
       "      <td>0</td>\n",
       "      <td>0</td>\n",
       "      <td>0</td>\n",
       "      <td>0</td>\n",
       "      <td>0</td>\n",
       "      <td>0</td>\n",
       "      <td>0</td>\n",
       "      <td>0</td>\n",
       "      <td>0</td>\n",
       "      <td>1</td>\n",
       "    </tr>\n",
       "  </tbody>\n",
       "</table>\n",
       "<p>5 rows × 40 columns</p>\n",
       "</div>"
      ],
      "text/plain": [
       "   prtage  work  pesex_FEMALE  pesex_MALE  ptdtrace_2 or 3 Races  \\\n",
       "0      35     1             0           1                      0   \n",
       "1      41     1             0           1                      0   \n",
       "2      53     0             0           1                      0   \n",
       "3      21     1             1           0                      0   \n",
       "4      45     1             1           0                      0   \n",
       "\n",
       "   ptdtrace_4 or 5 Races  ptdtrace_American Indian, Alaskan  \\\n",
       "0                      0                                  0   \n",
       "1                      0                                  0   \n",
       "2                      0                                  0   \n",
       "3                      0                                  0   \n",
       "4                      0                                  0   \n",
       "\n",
       "   ptdtrace_Asian Only  ptdtrace_Asian-HP  ptdtrace_Black Only  ...  \\\n",
       "0                    0                  0                    0  ...   \n",
       "1                    0                  0                    0  ...   \n",
       "2                    0                  0                    0  ...   \n",
       "3                    0                  0                    0  ...   \n",
       "4                    0                  0                    1  ...   \n",
       "\n",
       "   peeduca_9TH GRADE  peeduca_ASSOCIATE DEGREE-ACADEMIC  \\\n",
       "0                  0                                  0   \n",
       "1                  0                                  0   \n",
       "2                  0                                  0   \n",
       "3                  0                                  0   \n",
       "4                  0                                  0   \n",
       "\n",
       "   peeduca_ASSOCIATE DEGREE-OCCUPATIONAL/  peeduca_BACHELOR'S DEGREE  \\\n",
       "0                                       0                          0   \n",
       "1                                       0                          0   \n",
       "2                                       0                          1   \n",
       "3                                       0                          0   \n",
       "4                                       0                          0   \n",
       "\n",
       "   peeduca_DOCTORATE DEGREE  peeduca_HIGH SCHOOL GRAD-DIPLOMA OR  \\\n",
       "0                         0                                    1   \n",
       "1                         0                                    1   \n",
       "2                         0                                    0   \n",
       "3                         0                                    0   \n",
       "4                         0                                    0   \n",
       "\n",
       "   peeduca_LESS THAN 1ST GRADE  peeduca_MASTER'S DEGREE (EX: MA, MS,  \\\n",
       "0                            0                                     0   \n",
       "1                            0                                     0   \n",
       "2                            0                                     0   \n",
       "3                            0                                     0   \n",
       "4                            0                                     0   \n",
       "\n",
       "   peeduca_PROFESSIONAL SCHOOL DEG  peeduca_SOME COLLEGE BUT NO DEGREE  \n",
       "0                                0                                   0  \n",
       "1                                0                                   0  \n",
       "2                                0                                   0  \n",
       "3                                0                                   1  \n",
       "4                                0                                   1  \n",
       "\n",
       "[5 rows x 40 columns]"
      ]
     },
     "execution_count": 262,
     "metadata": {},
     "output_type": "execute_result"
    }
   ],
   "source": [
    "work_data.head()"
   ]
  },
  {
   "cell_type": "markdown",
   "id": "d5bde244",
   "metadata": {},
   "source": [
    "# Question 2(d)"
   ]
  },
  {
   "cell_type": "code",
   "execution_count": 263,
   "id": "0e9f80ee",
   "metadata": {},
   "outputs": [
    {
     "data": {
      "text/plain": [
       "Index(['prtage', 'vote', 'pesex_FEMALE', 'pesex_MALE', 'ptdtrace_2 or 3 Races',\n",
       "       'ptdtrace_American Indian, Alaskan', 'ptdtrace_Asian Only',\n",
       "       'ptdtrace_Asian-HP', 'ptdtrace_Black Only', 'ptdtrace_Black-AI',\n",
       "       'ptdtrace_Black-Asian', 'ptdtrace_Hawaiian/Pacific Islander Only',\n",
       "       'ptdtrace_W-A-HP', 'ptdtrace_W-B-AI', 'ptdtrace_White Only',\n",
       "       'ptdtrace_White-AI', 'ptdtrace_White-Asian', 'ptdtrace_White-Black',\n",
       "       'ptdtrace_White-Hawaiian', 'pehspnon_HISPANIC', 'pehspnon_NON-HISPANIC',\n",
       "       'prcitshp_FOREIGN BORN, U.S. CITIZEN BY',\n",
       "       'prcitshp_NATIVE, BORN ABROAD OF',\n",
       "       'prcitshp_NATIVE, BORN IN PUERTO RICO OR',\n",
       "       'prcitshp_NATIVE, BORN IN THE UNITED', 'peeduca_10TH GRADE',\n",
       "       'peeduca_11TH GRADE', 'peeduca_12TH GRADE NO DIPLOMA',\n",
       "       'peeduca_1ST, 2ND, 3RD OR 4TH GRADE', 'peeduca_5TH OR 6TH GRADE',\n",
       "       'peeduca_7TH OR 8TH GRADE', 'peeduca_9TH GRADE',\n",
       "       'peeduca_ASSOCIATE DEGREE-ACADEMIC',\n",
       "       'peeduca_ASSOCIATE DEGREE-OCCUPATIONAL/', 'peeduca_BACHELOR'S DEGREE',\n",
       "       'peeduca_DOCTORATE DEGREE', 'peeduca_HIGH SCHOOL GRAD-DIPLOMA OR',\n",
       "       'peeduca_LESS THAN 1ST GRADE', 'peeduca_MASTER'S DEGREE (EX: MA, MS,',\n",
       "       'peeduca_PROFESSIONAL SCHOOL DEG', 'peeduca_SOME COLLEGE BUT NO DEGREE',\n",
       "       'prcitshp_FOREIGN BORN, NOT A CITIZEN OF', 'ptdtrace_4 or 5 Races'],\n",
       "      dtype='object')"
      ]
     },
     "execution_count": 263,
     "metadata": {},
     "output_type": "execute_result"
    }
   ],
   "source": [
    "vote_data['prcitshp_FOREIGN BORN, NOT A CITIZEN OF'] = 0\n",
    "vote_data['ptdtrace_4 or 5 Races'] = 0\n",
    "vote_data.columns"
   ]
  },
  {
   "cell_type": "code",
   "execution_count": 264,
   "id": "6e4eaf29",
   "metadata": {},
   "outputs": [],
   "source": [
    "work_data['ptdtrace_Black-Asian'] = 0\n",
    "work_data['ptdtrace_W-A-HP'] = 0\n",
    "work_data['ptdtrace_W-B-AI'] = 0 "
   ]
  },
  {
   "cell_type": "code",
   "execution_count": 265,
   "id": "dd5ffa95",
   "metadata": {},
   "outputs": [
    {
     "data": {
      "text/plain": [
       "Index(['prtage', 'work', 'pesex_FEMALE', 'pesex_MALE', 'ptdtrace_2 or 3 Races',\n",
       "       'ptdtrace_4 or 5 Races', 'ptdtrace_American Indian, Alaskan',\n",
       "       'ptdtrace_Asian Only', 'ptdtrace_Asian-HP', 'ptdtrace_Black Only',\n",
       "       'ptdtrace_Black-AI', 'ptdtrace_Hawaiian/Pacific Islander Only',\n",
       "       'ptdtrace_White Only', 'ptdtrace_White-AI', 'ptdtrace_White-Asian',\n",
       "       'ptdtrace_White-Black', 'ptdtrace_White-Hawaiian', 'pehspnon_HISPANIC',\n",
       "       'pehspnon_NON-HISPANIC', 'prcitshp_FOREIGN BORN, NOT A CITIZEN OF',\n",
       "       'prcitshp_FOREIGN BORN, U.S. CITIZEN BY',\n",
       "       'prcitshp_NATIVE, BORN ABROAD OF',\n",
       "       'prcitshp_NATIVE, BORN IN PUERTO RICO OR',\n",
       "       'prcitshp_NATIVE, BORN IN THE UNITED', 'peeduca_10TH GRADE',\n",
       "       'peeduca_11TH GRADE', 'peeduca_12TH GRADE NO DIPLOMA',\n",
       "       'peeduca_1ST, 2ND, 3RD OR 4TH GRADE', 'peeduca_5TH OR 6TH GRADE',\n",
       "       'peeduca_7TH OR 8TH GRADE', 'peeduca_9TH GRADE',\n",
       "       'peeduca_ASSOCIATE DEGREE-ACADEMIC',\n",
       "       'peeduca_ASSOCIATE DEGREE-OCCUPATIONAL/', 'peeduca_BACHELOR'S DEGREE',\n",
       "       'peeduca_DOCTORATE DEGREE', 'peeduca_HIGH SCHOOL GRAD-DIPLOMA OR',\n",
       "       'peeduca_LESS THAN 1ST GRADE', 'peeduca_MASTER'S DEGREE (EX: MA, MS,',\n",
       "       'peeduca_PROFESSIONAL SCHOOL DEG', 'peeduca_SOME COLLEGE BUT NO DEGREE',\n",
       "       'ptdtrace_Black-Asian', 'ptdtrace_W-A-HP', 'ptdtrace_W-B-AI'],\n",
       "      dtype='object')"
      ]
     },
     "execution_count": 265,
     "metadata": {},
     "output_type": "execute_result"
    }
   ],
   "source": [
    "work_data.columns"
   ]
  },
  {
   "cell_type": "markdown",
   "id": "e94aef97",
   "metadata": {},
   "source": [
    "# Question 3"
   ]
  },
  {
   "cell_type": "code",
   "execution_count": 266,
   "id": "eff050b6",
   "metadata": {},
   "outputs": [],
   "source": [
    "X = work_data.drop(['work'], axis=1)\n",
    "y = work_data['work']"
   ]
  },
  {
   "cell_type": "code",
   "execution_count": 267,
   "id": "654cbb8f",
   "metadata": {},
   "outputs": [],
   "source": [
    "scaler = StandardScaler()\n",
    "scaler.fit(X)\n",
    "X = scaler.transform(X)"
   ]
  },
  {
   "cell_type": "code",
   "execution_count": 268,
   "id": "05f8435c",
   "metadata": {},
   "outputs": [
    {
     "data": {
      "text/plain": [
       "GridSearchCV(cv=KFold(n_splits=5, random_state=26, shuffle=True),\n",
       "             estimator=SVC(),\n",
       "             param_grid={'C': [0.1, 1, 5, 10],\n",
       "                         'kernel': ('linear', 'poly', 'sigmoid')})"
      ]
     },
     "execution_count": 268,
     "metadata": {},
     "output_type": "execute_result"
    }
   ],
   "source": [
    "# Define the set of parameters to form combinations in grid search\n",
    "parameters = {'kernel':('linear','poly', 'sigmoid'), \n",
    "              'C':[0.1, 1, 5, 10]}\n",
    "\n",
    "# Run each combination using GridSearch CV\n",
    "# By specifying cv = fkf, GridSearchCV will run 5-fold CV that you specified on each combination\n",
    "from sklearn.model_selection import GridSearchCV\n",
    "svc = SVC()\n",
    "fkf = KFold(n_splits=5, random_state=26, shuffle=True)\n",
    "clf = GridSearchCV(svc, parameters, cv = fkf)\n",
    "\n",
    "clf.fit(X, y)"
   ]
  },
  {
   "cell_type": "code",
   "execution_count": 269,
   "id": "cad80b24",
   "metadata": {},
   "outputs": [
    {
     "name": "stdout",
     "output_type": "stream",
     "text": [
      "{'C': 0.1, 'kernel': 'linear'} 0.8613999999999999 3\n",
      "{'C': 0.1, 'kernel': 'poly'} 0.6314 12\n",
      "{'C': 0.1, 'kernel': 'sigmoid'} 0.8602000000000001 5\n",
      "{'C': 1, 'kernel': 'linear'} 0.8622 1\n",
      "{'C': 1, 'kernel': 'poly'} 0.8352 8\n",
      "{'C': 1, 'kernel': 'sigmoid'} 0.8268000000000001 9\n",
      "{'C': 5, 'kernel': 'linear'} 0.8613999999999999 3\n",
      "{'C': 5, 'kernel': 'poly'} 0.8516 7\n",
      "{'C': 5, 'kernel': 'sigmoid'} 0.8164 10\n",
      "{'C': 10, 'kernel': 'linear'} 0.8615999999999999 2\n",
      "{'C': 10, 'kernel': 'poly'} 0.8532 6\n",
      "{'C': 10, 'kernel': 'sigmoid'} 0.8160000000000001 11\n"
     ]
    }
   ],
   "source": [
    "# Print out the mean_score for each combination\n",
    "# GridSearchCV uses accuracy scores by default\n",
    "for params, mean_score, rank in zip(clf.cv_results_[\"params\"], clf.cv_results_[\"mean_test_score\"], clf.cv_results_[\"rank_test_score\"]):\n",
    "    print(params, mean_score, rank)"
   ]
  },
  {
   "cell_type": "markdown",
   "id": "097b4f2a",
   "metadata": {},
   "source": [
    "# Question 4"
   ]
  },
  {
   "cell_type": "markdown",
   "id": "4b1480de",
   "metadata": {},
   "source": [
    "The value of C that minimizes the error rate is 1 and the kernel that minimizes it is linear. "
   ]
  },
  {
   "cell_type": "markdown",
   "id": "950b2871",
   "metadata": {},
   "source": [
    "# Question 5"
   ]
  },
  {
   "cell_type": "code",
   "execution_count": 270,
   "id": "4139a2b0",
   "metadata": {},
   "outputs": [
    {
     "data": {
      "text/plain": [
       "0.8622"
      ]
     },
     "execution_count": 270,
     "metadata": {},
     "output_type": "execute_result"
    }
   ],
   "source": [
    "max(clf.cv_results_['mean_test_score'])"
   ]
  },
  {
   "cell_type": "markdown",
   "id": "054eb740",
   "metadata": {},
   "source": [
    "# Question 6"
   ]
  },
  {
   "cell_type": "code",
   "execution_count": 271,
   "id": "27bfbe47",
   "metadata": {},
   "outputs": [
    {
     "data": {
      "text/plain": [
       "SVC(kernel='linear')"
      ]
     },
     "execution_count": 271,
     "metadata": {},
     "output_type": "execute_result"
    }
   ],
   "source": [
    "svc = SVC(kernel='linear',C=1.0)\n",
    "svc.fit(X, y)"
   ]
  },
  {
   "cell_type": "code",
   "execution_count": 272,
   "id": "fa180f2d",
   "metadata": {},
   "outputs": [],
   "source": [
    "X = vote_data.drop(['vote'], axis=1)\n",
    "y = vote_data['vote']"
   ]
  },
  {
   "cell_type": "code",
   "execution_count": 273,
   "id": "e56d55ee",
   "metadata": {},
   "outputs": [],
   "source": [
    "scaler.fit(X)\n",
    "X = scaler.transform(X)"
   ]
  },
  {
   "cell_type": "code",
   "execution_count": 274,
   "id": "705cd63d",
   "metadata": {},
   "outputs": [],
   "source": [
    "imputed_work = svc.predict(X)"
   ]
  },
  {
   "cell_type": "code",
   "execution_count": 275,
   "id": "a6c0b44e",
   "metadata": {},
   "outputs": [
    {
     "data": {
      "text/plain": [
       "count    5000.000000\n",
       "mean        0.643600\n",
       "std         0.478983\n",
       "min         0.000000\n",
       "25%         0.000000\n",
       "50%         1.000000\n",
       "75%         1.000000\n",
       "max         1.000000\n",
       "Name: imputed_work, dtype: float64"
      ]
     },
     "execution_count": 275,
     "metadata": {},
     "output_type": "execute_result"
    }
   ],
   "source": [
    "vote_data['imputed_work'] = imputed_work\n",
    "vote_data['imputed_work'].describe()"
   ]
  },
  {
   "cell_type": "markdown",
   "id": "ac7834f8",
   "metadata": {},
   "source": [
    "# Question 7"
   ]
  },
  {
   "cell_type": "code",
   "execution_count": 276,
   "id": "81ed8970",
   "metadata": {},
   "outputs": [
    {
     "name": "stdout",
     "output_type": "stream",
     "text": [
      "                            OLS Regression Results                            \n",
      "==============================================================================\n",
      "Dep. Variable:                   vote   R-squared:                       0.547\n",
      "Model:                            OLS   Adj. R-squared:                  0.547\n",
      "Method:                 Least Squares   F-statistic:                     1507.\n",
      "Date:                Wed, 08 Mar 2023   Prob (F-statistic):               0.00\n",
      "Time:                        23:27:34   Log-Likelihood:                -1642.9\n",
      "No. Observations:                5000   AIC:                             3296.\n",
      "Df Residuals:                    4995   BIC:                             3328.\n",
      "Df Model:                           4                                         \n",
      "Covariance Type:            nonrobust                                         \n",
      "================================================================================\n",
      "                   coef    std err          t      P>|t|      [0.025      0.975]\n",
      "--------------------------------------------------------------------------------\n",
      "Intercept        0.7174      0.022     33.296      0.000       0.675       0.760\n",
      "imputed_work     0.2364      0.018     13.406      0.000       0.202       0.271\n",
      "prtage          -0.0220      0.002     -8.824      0.000      -0.027      -0.017\n",
      "prtage ^ 2       0.0065      0.002      2.705      0.007       0.002       0.011\n",
      "pesex_FEMALE     0.3527      0.012     29.609      0.000       0.329       0.376\n",
      "pesex_MALE       0.3647      0.012     31.295      0.000       0.342       0.388\n",
      "==============================================================================\n",
      "Omnibus:                      263.896   Durbin-Watson:                   2.003\n",
      "Prob(Omnibus):                  0.000   Jarque-Bera (JB):              306.572\n",
      "Skew:                          -0.585   Prob(JB):                     2.68e-67\n",
      "Kurtosis:                       3.319   Cond. No.                     3.13e+17\n",
      "==============================================================================\n",
      "\n",
      "Notes:\n",
      "[1] Standard Errors assume that the covariance matrix of the errors is correctly specified.\n",
      "[2] The smallest eigenvalue is 2.42e-28. This might indicate that there are\n",
      "strong multicollinearity problems or that the design matrix is singular.\n"
     ]
    }
   ],
   "source": [
    "import statsmodels.formula.api as smf\n",
    "result = smf.ols('vote ~  imputed_work + prtage + prtage^2 + pesex_FEMALE + pesex_MALE', data = vote_data).fit()\n",
    "print(result.summary())"
   ]
  },
  {
   "cell_type": "markdown",
   "id": "23c95d16",
   "metadata": {},
   "source": [
    "All of the terms were statistically significant. Of these terms all of them were positive except for age squared. The adjusted R-squared of the regression overall was 0.547 which is relatively high. \n",
    "\n",
    "The imputed_work coefficient is 0.2364. This means that, if all else is held equal, as the work flexibility measure increases by 1, the probability of voting increases by 23.64 percentage points. This is a relatively large increase but it must be kept in perspective that the work flexibility measure only goes from 0 to 1 so an increase of 1 is a large increase in work flexibility. "
   ]
  },
  {
   "cell_type": "markdown",
   "id": "bcb791c2",
   "metadata": {},
   "source": [
    "# Question 8 "
   ]
  },
  {
   "cell_type": "code",
   "execution_count": 277,
   "id": "d1ccdb1f",
   "metadata": {},
   "outputs": [],
   "source": [
    "# First, let's define the attenuation bias correction formula\n",
    "def compute_M(a,b):\n",
    "    return 1 / (1 - 2 * b) * (1 - (1 - b) * b / a - (1 - b) * b / (1 - a))"
   ]
  },
  {
   "cell_type": "code",
   "execution_count": 278,
   "id": "12e369c4",
   "metadata": {},
   "outputs": [
    {
     "name": "stdout",
     "output_type": "stream",
     "text": [
      "0.6436\n"
     ]
    }
   ],
   "source": [
    "# Next, let's calculate the inputs to the bias correction\n",
    "# For the value of a, find the proportion of imputed work schedules that are flexible\n",
    "a = sum(imputed_work)/(imputed_work.size)\n",
    "print(a)"
   ]
  },
  {
   "cell_type": "code",
   "execution_count": 279,
   "id": "048396b7",
   "metadata": {},
   "outputs": [
    {
     "name": "stdout",
     "output_type": "stream",
     "text": [
      "0.13780000000000003\n"
     ]
    }
   ],
   "source": [
    "# For the value of b, use the cross-validation error rate \n",
    "# This is left as an exercise for the mini-project, so we're just hard coding a value\n",
    "b = 1 - max(clf.cv_results_['mean_test_score'])\n",
    "print(b)"
   ]
  },
  {
   "cell_type": "code",
   "execution_count": 280,
   "id": "70950993",
   "metadata": {},
   "outputs": [
    {
     "name": "stdout",
     "output_type": "stream",
     "text": [
      "0.6654214712301145\n"
     ]
    }
   ],
   "source": [
    "M = compute_M(a,b)\n",
    "print(M)"
   ]
  },
  {
   "cell_type": "markdown",
   "id": "aa9747dc",
   "metadata": {},
   "source": [
    "# Question 9"
   ]
  },
  {
   "cell_type": "code",
   "execution_count": 281,
   "id": "7747a744",
   "metadata": {},
   "outputs": [
    {
     "name": "stdout",
     "output_type": "stream",
     "text": [
      "0.3552635588433676\n"
     ]
    }
   ],
   "source": [
    "work_vote_relationship = 0.2364   \n",
    "work_vote_bias_correction = work_vote_relationship / M\n",
    "print(work_vote_bias_correction)"
   ]
  },
  {
   "cell_type": "markdown",
   "id": "0e497170",
   "metadata": {},
   "source": [
    "The bias corrected version is larger. And yes it does change my previous result. Because there is some noise in our prediction mixed in with the signal, correcting for this results in moving our estimates further away from zero. "
   ]
  },
  {
   "cell_type": "code",
   "execution_count": null,
   "id": "4829b3ed",
   "metadata": {},
   "outputs": [],
   "source": []
  },
  {
   "cell_type": "code",
   "execution_count": null,
   "id": "787d8580",
   "metadata": {},
   "outputs": [],
   "source": []
  }
 ],
 "metadata": {
  "kernelspec": {
   "display_name": "Python 3 (ipykernel)",
   "language": "python",
   "name": "python3"
  },
  "language_info": {
   "codemirror_mode": {
    "name": "ipython",
    "version": 3
   },
   "file_extension": ".py",
   "mimetype": "text/x-python",
   "name": "python",
   "nbconvert_exporter": "python",
   "pygments_lexer": "ipython3",
   "version": "3.9.7"
  }
 },
 "nbformat": 4,
 "nbformat_minor": 5
}
